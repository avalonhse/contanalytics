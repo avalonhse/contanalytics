{
 "metadata": {
  "name": ""
 },
 "nbformat": 3,
 "nbformat_minor": 0,
 "worksheets": [
  {
   "cells": [
    {
     "cell_type": "raw",
     "metadata": {},
     "source": [
      "This is a simple tutorial for recognizing handwritten digits by Support Vector Machine.\n",
      "First, I import csv module for loading data."
     ]
    },
    {
     "cell_type": "code",
     "collapsed": false,
     "input": [
      "import csv\n",
      "import numpy as np"
     ],
     "language": "python",
     "metadata": {},
     "outputs": [],
     "prompt_number": 8
    },
    {
     "cell_type": "raw",
     "metadata": {},
     "source": [
      "Next, I load the train data. You can get description of format of train data at here http://www.kaggle.com/c/digit-recognizer/data."
     ]
    },
    {
     "cell_type": "code",
     "collapsed": false,
     "input": [
      "csv_reader = csv.reader(open(\"data/train.csv\", \"r\"), delimiter = \",\")\n",
      "index = 0\n",
      "labels = []\n",
      "train = []\n",
      "for row in csv_reader:\n",
      "    index += 1\n",
      "    if index == 1:\n",
      "        continue\n",
      "    labels.append(int(row[0]))\n",
      "    train.append(np.array(np.int64(row[1 : ])))\n",
      "\n",
      "print \"The size of the train dataset is %d\" %len(train)\n",
      "print \"The size of an train image is %d\" %len(train[0])"
     ],
     "language": "python",
     "metadata": {},
     "outputs": [
      {
       "output_type": "stream",
       "stream": "stdout",
       "text": [
        "The size of the train dataset is 42000\n",
        "The size of an train image is 784\n"
       ]
      }
     ],
     "prompt_number": 34
    },
    {
     "cell_type": "raw",
     "metadata": {},
     "source": [
      "Then, I load the test data."
     ]
    },
    {
     "cell_type": "code",
     "collapsed": false,
     "input": [
      "csv_reader = csv.reader(open(\"data/test.csv\", \"r\"), delimiter = \",\")\n",
      "test = []\n",
      "index = 0\n",
      "for row in csv_reader:\n",
      "    index += 1\n",
      "    if index == 1:\n",
      "        continue\n",
      "    test.append(np.array(np.int64(row)))\n",
      "    \n",
      "print \"The size of the test dataset is %d\" %len(test)\n",
      "print \"The size of an test image is %d\" %len(test[0])"
     ],
     "language": "python",
     "metadata": {},
     "outputs": [
      {
       "output_type": "stream",
       "stream": "stdout",
       "text": [
        "The size of the test dataset is 28000\n",
        "The size of an test image is 784\n"
       ]
      }
     ],
     "prompt_number": 43
    },
    {
     "cell_type": "raw",
     "metadata": {},
     "source": [
      "Then, I import the svm module from sklearn to train model and predict.\n",
      "In my source code, I just use 5000 first samples in train data for training.\n",
      "You can increase the number of training samples if you want."
     ]
    },
    {
     "cell_type": "code",
     "collapsed": false,
     "input": [
      "from sklearn import svm"
     ],
     "language": "python",
     "metadata": {},
     "outputs": [],
     "prompt_number": 44
    },
    {
     "cell_type": "code",
     "collapsed": false,
     "input": [
      "train_sample = train[: 5000]\n",
      "labels_sample = labels[: 5000]"
     ],
     "language": "python",
     "metadata": {},
     "outputs": [],
     "prompt_number": 51
    },
    {
     "cell_type": "raw",
     "metadata": {},
     "source": [
      "I initial SVM Classifier with linear kernel and train model"
     ]
    },
    {
     "cell_type": "code",
     "collapsed": false,
     "input": [
      "svm_alg = svm.LinearSVC()\n",
      "svm_alg.fit(train_sample, labels_sample)"
     ],
     "language": "python",
     "metadata": {},
     "outputs": [
      {
       "metadata": {},
       "output_type": "pyout",
       "prompt_number": 52,
       "text": [
        "LinearSVC(C=1.0, dual=True, fit_intercept=True, intercept_scaling=1,\n",
        "     loss='l2', multi_class=False, penalty='l2', scale_C=False, tol=0.0001)"
       ]
      }
     ],
     "prompt_number": 52
    },
    {
     "cell_type": "code",
     "collapsed": false,
     "input": [
      "predictions = svm_alg.predict(test)"
     ],
     "language": "python",
     "metadata": {},
     "outputs": [],
     "prompt_number": 49
    },
    {
     "cell_type": "raw",
     "metadata": {},
     "source": [
      "Finally, This is my predictions for 10 first samples in test data."
     ]
    },
    {
     "cell_type": "code",
     "collapsed": false,
     "input": [
      "print predictions[: 10]"
     ],
     "language": "python",
     "metadata": {},
     "outputs": [
      {
       "output_type": "stream",
       "stream": "stdout",
       "text": [
        "[2 0 9 9 3 7 0 3 0 3]\n"
       ]
      }
     ],
     "prompt_number": 50
    },
    {
     "cell_type": "code",
     "collapsed": false,
     "input": [],
     "language": "python",
     "metadata": {},
     "outputs": []
    }
   ],
   "metadata": {}
  }
 ]
}