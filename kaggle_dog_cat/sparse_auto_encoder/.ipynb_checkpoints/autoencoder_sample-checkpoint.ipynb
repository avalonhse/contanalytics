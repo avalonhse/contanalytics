{
 "metadata": {
  "name": ""
 },
 "nbformat": 3,
 "nbformat_minor": 0,
 "worksheets": [
  {
   "cells": [
    {
     "cell_type": "code",
     "collapsed": false,
     "input": [
      "# create data & data.csv\n",
      "import csv\n",
      "\n",
      "\n",
      "import time\n",
      "\n",
      "# Start the clock\n",
      "start = time.clock()\n",
      "\n",
      "import os\n",
      "os.getcwd()\n",
      "\n",
      "os.chdir(\"/home/dungdo/sparse_auto_encoder/train50\")\n",
      "\n",
      "\n",
      "# import lib to load and resize image\n",
      "import PIL\n",
      "from PIL import Image\n",
      "\n",
      "\n",
      "data = []\n",
      "\n",
      "# write cat data\n",
      "for i in range(1000):\n",
      "    img = Image.open(\"catResize.\" + str(i) + \".jpg\")\n",
      "    pixel = img.load()\n",
      "    w, h = img.size\n",
      "    all_pixel = []\n",
      "    for x in range(w):\n",
      "        for y in range(h):\n",
      "            cpixel = pixel[x,y]\n",
      "            gray = (int)((0.3 * cpixel[0]) + (0.59 * cpixel[1]) + (0.11 * cpixel[2]))\n",
      "            all_pixel.append(gray)\n",
      "\n",
      "    data.append(all_pixel)\n",
      "  \n",
      "# write dog data\n",
      "for i in range(1000):\n",
      "    img = Image.open(\"dogResize.\" + str(i) + \".jpg\")\n",
      "    pixel = img.load()\n",
      "    w, h = img.size\n",
      "    all_pixel = []\n",
      "    for x in range(w):\n",
      "        for y in range(h):\n",
      "            cpixel = pixel[x,y]\n",
      "            gray = (int)((0.3 * cpixel[0]) + (0.59 * cpixel[1]) + (0.11 * cpixel[2]))\n",
      "            all_pixel.append(gray)\n",
      "\n",
      "    data.append(all_pixel)\n",
      "\n",
      "    \n"
     ],
     "language": "python",
     "metadata": {},
     "outputs": [],
     "prompt_number": 10
    },
    {
     "cell_type": "code",
     "collapsed": false,
     "input": [
      "os.chdir(\"/home/dungdo/sparse_auto_encoder/\")   \n",
      "f = open(\"data_sample_50.csv\", \"wb\")\n",
      "writer = csv.writer(f)\n",
      "writer.writerows(data)\n",
      "\n",
      "# Stop the clock\n",
      "elapsed = (time.clock() - start)\n",
      "print \"Processing time:\" +  str(elapsed)"
     ],
     "language": "python",
     "metadata": {},
     "outputs": [
      {
       "output_type": "stream",
       "stream": "stdout",
       "text": [
        "Processing time:4.63\n"
       ]
      }
     ],
     "prompt_number": 11
    },
    {
     "cell_type": "code",
     "collapsed": false,
     "input": [
      "label = []\n",
      "for i in range(1000):\n",
      "    label.append(0)\n",
      "\n",
      "for i in range(1000):\n",
      "    label.append(1)\n",
      "    \n",
      "print len(label)\n",
      "\n"
     ],
     "language": "python",
     "metadata": {},
     "outputs": [
      {
       "output_type": "stream",
       "stream": "stdout",
       "text": [
        "2000\n"
       ]
      }
     ],
     "prompt_number": 12
    },
    {
     "cell_type": "code",
     "collapsed": false,
     "input": [
      "# train data to take W1, W2, b1, b2\n",
      "import time\n",
      "\n",
      "# start the clock\n",
      "start = time.clock()\n",
      "\n",
      "import utils\n",
      "import numpy as np\n",
      "import scipy.optimize\n",
      "import struct\n",
      "import sac\n",
      "import pickle"
     ],
     "language": "python",
     "metadata": {},
     "outputs": [
      {
       "ename": "ImportError",
       "evalue": "No module named utils",
       "output_type": "pyerr",
       "traceback": [
        "\u001b[1;31m---------------------------------------------------------------------------\u001b[0m\n\u001b[1;31mImportError\u001b[0m                               Traceback (most recent call last)",
        "\u001b[1;32m<ipython-input-13-bf7652d9beb4>\u001b[0m in \u001b[0;36m<module>\u001b[1;34m()\u001b[0m\n\u001b[0;32m      5\u001b[0m \u001b[0mstart\u001b[0m \u001b[1;33m=\u001b[0m \u001b[0mtime\u001b[0m\u001b[1;33m.\u001b[0m\u001b[0mclock\u001b[0m\u001b[1;33m(\u001b[0m\u001b[1;33m)\u001b[0m\u001b[1;33m\u001b[0m\u001b[0m\n\u001b[0;32m      6\u001b[0m \u001b[1;33m\u001b[0m\u001b[0m\n\u001b[1;32m----> 7\u001b[1;33m \u001b[1;32mimport\u001b[0m \u001b[0mutils\u001b[0m\u001b[1;33m\u001b[0m\u001b[0m\n\u001b[0m\u001b[0;32m      8\u001b[0m \u001b[1;32mimport\u001b[0m \u001b[0mnumpy\u001b[0m \u001b[1;32mas\u001b[0m \u001b[0mnp\u001b[0m\u001b[1;33m\u001b[0m\u001b[0m\n\u001b[0;32m      9\u001b[0m \u001b[1;32mimport\u001b[0m \u001b[0mscipy\u001b[0m\u001b[1;33m.\u001b[0m\u001b[0moptimize\u001b[0m\u001b[1;33m\u001b[0m\u001b[0m\n",
        "\u001b[1;31mImportError\u001b[0m: No module named utils"
       ]
      }
     ],
     "prompt_number": 13
    },
    {
     "cell_type": "code",
     "collapsed": false,
     "input": [],
     "language": "python",
     "metadata": {},
     "outputs": [],
     "prompt_number": 14
    },
    {
     "cell_type": "code",
     "collapsed": false,
     "input": [
      "\n",
      "\n",
      "# read data and label\n",
      "# images = utils.load_images(\"data/train-images-idx3-ubyte\")\n",
      "# images = data\n",
      "\n",
      "data = np.array(data)\n",
      "data = data.T\n",
      "\n",
      "\n",
      "# labels = utils.load_labels(\"data/train-labels-idx1-ubyte\")\n",
      "\n",
      "# print type(label)\n",
      "# print len(label)\n",
      "patches = data\n",
      "visible_size = 50*50\n",
      "hidden_size = 196\n",
      "options = sac.SparseAutoEncoderOptions(visible_size,\n",
      "                                       hidden_size,\n",
      "                                       output_dir=\"output_train_sample50\",\n",
      "                                       max_iterations = 400)\n",
      "network = sac.SparseAutoEncoder(options, patches)\n",
      "\n",
      "answer = network.learn()\n",
      "\n",
      "# a2, a3 = network.feed_forward(data, answer.W1, answer.W2, answer.b1, answer.b2)\n",
      "'''\n",
      "options = sac.SparseAutoEncoderOptions(visible_size,\n",
      "                                       hidden_size,\n",
      "                                       output_dir=\"output_data50\",\n",
      "                                       max_iterations = 400)\n",
      "                                       '''\n",
      "\n",
      "f = sac.SparseAutoEncoder(options, patches)\n",
      "\n",
      "a2_train, a3_train = f.feed_forward(data, answer.W1, answer.W2, answer.b1, answer.b2)\n",
      "\n",
      "\n",
      "# stop the clock\n",
      "elapsed = (time.clock() - start)\n",
      "print \"Processing time: \" + str(elapsed/60) + \" mins.\"\n"
     ],
     "language": "python",
     "metadata": {},
     "outputs": [
      {
       "ename": "ImportError",
       "evalue": "No module named utils",
       "output_type": "pyerr",
       "traceback": [
        "\u001b[1;31m---------------------------------------------------------------------------\u001b[0m\n\u001b[1;31mImportError\u001b[0m                               Traceback (most recent call last)",
        "\u001b[1;32m<ipython-input-6-b769a10e6769>\u001b[0m in \u001b[0;36m<module>\u001b[1;34m()\u001b[0m\n\u001b[0;32m      5\u001b[0m \u001b[0mstart\u001b[0m \u001b[1;33m=\u001b[0m \u001b[0mtime\u001b[0m\u001b[1;33m.\u001b[0m\u001b[0mclock\u001b[0m\u001b[1;33m(\u001b[0m\u001b[1;33m)\u001b[0m\u001b[1;33m\u001b[0m\u001b[0m\n\u001b[0;32m      6\u001b[0m \u001b[1;33m\u001b[0m\u001b[0m\n\u001b[1;32m----> 7\u001b[1;33m \u001b[1;32mimport\u001b[0m \u001b[0mutils\u001b[0m\u001b[1;33m\u001b[0m\u001b[0m\n\u001b[0m\u001b[0;32m      8\u001b[0m \u001b[1;32mimport\u001b[0m \u001b[0mnumpy\u001b[0m \u001b[1;32mas\u001b[0m \u001b[0mnp\u001b[0m\u001b[1;33m\u001b[0m\u001b[0m\n\u001b[0;32m      9\u001b[0m \u001b[1;32mimport\u001b[0m \u001b[0mscipy\u001b[0m\u001b[1;33m.\u001b[0m\u001b[0moptimize\u001b[0m\u001b[1;33m\u001b[0m\u001b[0m\n",
        "\u001b[1;31mImportError\u001b[0m: No module named utils"
       ]
      }
     ],
     "prompt_number": 6
    },
    {
     "cell_type": "code",
     "collapsed": false,
     "input": [
      "#  train a2 (of train data)  with SVM\n",
      "from sklearn import svm\n",
      "svm_alg = svm.LinearSVC()\n",
      "svm_alg.fit(a2_train.T, label) "
     ],
     "language": "python",
     "metadata": {},
     "outputs": [
      {
       "metadata": {},
       "output_type": "pyout",
       "prompt_number": 10,
       "text": [
        "LinearSVC(C=1.0, class_weight=None, dual=True, fit_intercept=True,\n",
        "     intercept_scaling=1, loss='l2', multi_class='ovr', penalty='l2',\n",
        "     random_state=None, tol=0.0001, verbose=0)"
       ]
      }
     ],
     "prompt_number": 10
    },
    {
     "cell_type": "code",
     "collapsed": false,
     "input": [
      "# create test & test.csv\n",
      "import csv\n",
      "\n",
      "import time\n",
      "\n",
      "# Start the clock\n",
      "start = time.clock()\n",
      "\n",
      "import os\n",
      "os.getcwd()\n",
      "\n",
      "os.chdir(\"/home/trinhdoan/sparse_auto_encoder/test50\")\n",
      "\n",
      "\n",
      "# import lib to load and resize image\n",
      "import PIL\n",
      "from PIL import Image\n",
      "\n",
      "\n",
      "test = []\n",
      "\n",
      "for i in range(1, 1001):\n",
      "    img = Image.open(\"test\" + str(i) + \".jpg\")\n",
      "    pixel = img.load()\n",
      "    w, h = img.size\n",
      "    all_pixel = []\n",
      "    for x in range(w):\n",
      "        for y in range(h):\n",
      "            cpixel = pixel[x, y]\n",
      "            gray = (int)((0.3 * cpixel[0]) + (0.59 * cpixel[1])+ (0.11 * cpixel[2]))\n",
      "            all_pixel.append(gray)\n",
      "    test.append(all_pixel)\n",
      "    \n",
      "os.chdir(\"/home/trinhdoan/sparse_auto_encoder/\")   \n",
      "f = open(\"test_sample_50.csv\", \"wb\")\n",
      "writer = csv.writer(f)\n",
      "writer.writerows(test)\n",
      "\n",
      "# Stop the clock\n",
      "\n",
      "elapsed = (time.clock() - start)\n",
      "print \"Processing time:\" +  str(elapsed)"
     ],
     "language": "python",
     "metadata": {},
     "outputs": [
      {
       "output_type": "stream",
       "stream": "stdout",
       "text": [
        "Processing time:2.33\n"
       ]
      }
     ],
     "prompt_number": 12
    },
    {
     "cell_type": "code",
     "collapsed": false,
     "input": [
      "test = np.array(test)\n",
      "test = test.T"
     ],
     "language": "python",
     "metadata": {},
     "outputs": [],
     "prompt_number": 14
    },
    {
     "cell_type": "code",
     "collapsed": false,
     "input": [
      "import time\n",
      "\n",
      "# start the clock\n",
      "start = time.clock()\n",
      "\n",
      "import utils\n",
      "import numpy as np\n",
      "import scipy.optimize\n",
      "import struct\n",
      "import sac\n",
      "import pickle\n",
      "\n",
      "\n",
      "patches = test\n",
      "visible_size = 50*50\n",
      "hidden_size = 196\n",
      "options = sac.SparseAutoEncoderOptions(visible_size,\n",
      "                                       hidden_size,\n",
      "                                       output_dir=\"output_sample_test50\",\n",
      "                                       max_iterations = 400)\n",
      "network = sac.SparseAutoEncoder(options, patches)\n",
      "\n",
      "# answer = network.learn()\n",
      "\n",
      "# a2, a3 = network.feed_forward(data, answer.W1, answer.W2, answer.b1, answer.b2)\n",
      "'''\n",
      "options = sac.SparseAutoEncoderOptions(visible_size,\n",
      "                                       hidden_size,\n",
      "                                       output_dir=\"output_test50\",\n",
      "                                       max_iterations = 400)\n",
      "                                       '''\n",
      "\n",
      "# f = sac.SparseAutoEncoder(options, patches)\n",
      "\n",
      "a2_test, a3_test = network.feed_forward(test, answer.W1, answer.W2, answer.b1, answer.b2)\n",
      "\n",
      "\n",
      "# stop the clock\n",
      "elapsed = (time.clock() - start)\n",
      "print \"Processing time: \" + str(elapsed/60) + \" mins.\"\n",
      "\n"
     ],
     "language": "python",
     "metadata": {},
     "outputs": [
      {
       "output_type": "stream",
       "stream": "stdout",
       "text": [
        "Processing time: 0.0366666666667 mins.\n"
       ]
      }
     ],
     "prompt_number": 15
    },
    {
     "cell_type": "code",
     "collapsed": false,
     "input": [
      "predictions = svm_alg.predict(a2_test.T)"
     ],
     "language": "python",
     "metadata": {},
     "outputs": [],
     "prompt_number": 17
    },
    {
     "cell_type": "code",
     "collapsed": false,
     "input": [
      "for i in range(10):\n",
      "    print predictions[i]"
     ],
     "language": "python",
     "metadata": {},
     "outputs": [
      {
       "output_type": "stream",
       "stream": "stdout",
       "text": [
        "1\n",
        "1\n",
        "0\n",
        "0\n",
        "0\n",
        "1\n",
        "0\n",
        "0\n",
        "0\n",
        "1\n"
       ]
      }
     ],
     "prompt_number": 25
    }
   ],
   "metadata": {}
  }
 ]
}